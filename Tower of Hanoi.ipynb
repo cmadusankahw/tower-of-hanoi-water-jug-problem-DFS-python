{
 "cells": [
  {
   "cell_type": "code",
   "execution_count": 17,
   "metadata": {},
   "outputs": [],
   "source": [
    "from pathlib import Path\n",
    "import gettext"
   ]
  },
  {
   "cell_type": "markdown",
   "metadata": {},
   "source": [
    "## Rules"
   ]
  },
  {
   "cell_type": "code",
   "execution_count": 18,
   "metadata": {},
   "outputs": [],
   "source": [
    "def print_rules():\n",
    "    print(\"--------- Tower of Hanoi ---------\\n\")\n",
    "    print(\"Rules: \")\n",
    "    print(\"  1) Only one disk can be moved at a time.\\n  2) Each move consists of taking the upper disk from one of the stacks\\n     and placing it on top of another stack\\n     i.e. a disk can only be moved if it is the uppermost disk on a stack.\\n  3) No disk may be placed on top of a smaller disk.\\n\")"
   ]
  },
  {
   "cell_type": "markdown",
   "metadata": {},
   "source": [
    "## Solution using Stacks (Depth First Search)"
   ]
  },
  {
   "cell_type": "code",
   "execution_count": 19,
   "metadata": {},
   "outputs": [],
   "source": [
    "# move function : pop a given disc from source stack and appends to destination stack\n",
    "def move(source, destination):\n",
    "    destination.append(source.pop())"
   ]
  },
  {
   "cell_type": "code",
   "execution_count": 20,
   "metadata": {},
   "outputs": [],
   "source": [
    "# function to find the possible move and return (output will be used by the move function)\n",
    "def possible_move(peg1, peg2):\n",
    "    if peg1 and (not peg2 or peg1[-1] < peg2[-1]):\n",
    "        return peg1, peg2\n",
    "    else:\n",
    "        return peg2, peg1"
   ]
  },
  {
   "cell_type": "code",
   "execution_count": 21,
   "metadata": {},
   "outputs": [],
   "source": [
    "# function to print steps(nodes) of DFS tree\n",
    "def print_pegs(a, b, c, discs):\n",
    "    for i in range(discs):\n",
    "        if (i+1) in a:\n",
    "            print(\"Disc \",i+1, \" : Tower A\")\n",
    "        if (i+1) in b:\n",
    "            print(\"Disc \",i+1, \" : Tower B\")\n",
    "        if (i+1) in c:\n",
    "            print(\"Disc \",i+1, \" : Tower C\")\n",
    "    print()"
   ]
  },
  {
   "cell_type": "code",
   "execution_count": 22,
   "metadata": {},
   "outputs": [],
   "source": [
    "# tower of hanoi function\n",
    "def tower_of_hanoi(discs):\n",
    "    # initializing stacks\n",
    "    a = list(range(discs, 0, -1))\n",
    "    b = []\n",
    "    c = []\n",
    "\n",
    "    # minimumj possible moves for a given no of discs\n",
    "    minimum_moves = 2 ** discs - 1\n",
    "\n",
    "    if discs % 2 == 1:\n",
    "        peg = [a, c, b]\n",
    "    else:\n",
    "        peg = [a, b, c]\n",
    "\n",
    "    moves = 0\n",
    "    # moving discs\n",
    "    while len(c) != discs:\n",
    "        # print tree\n",
    "        print_pegs(a, b, c ,discs)\n",
    "        if moves % 2 == 0:\n",
    "            move(peg[0], peg[1])      # Smallest disc now on peg[1]\n",
    "        else:\n",
    "            source, destination = possible_move(peg[0], peg[2])\n",
    "            move(source, destination)\n",
    "            peg = peg[1:] + peg[:1]   # Rotate the peg ordering\n",
    "        moves += 1\n",
    "\n",
    "    print()\n",
    "    print(('Moves:'), moves)\n",
    "    print(('Minimal moves:'), minimum_moves)"
   ]
  },
  {
   "cell_type": "code",
   "execution_count": 24,
   "metadata": {},
   "outputs": [
    {
     "name": "stdout",
     "output_type": "stream",
     "text": [
      "--------- Tower of Hanoi ---------\n",
      "\n",
      "Rules: \n",
      "  1) Only one disk can be moved at a time.\n",
      "  2) Each move consists of taking the upper disk from one of the stacks\n",
      "     and placing it on top of another stack\n",
      "     i.e. a disk can only be moved if it is the uppermost disk on a stack.\n",
      "  3) No disk may be placed on top of a smaller disk.\n",
      "\n",
      "Enter the number of disks: 3\n",
      "\n",
      "Solution using DFS:\n",
      "\n",
      "Disc  1  : Tower A\n",
      "Disc  2  : Tower A\n",
      "Disc  3  : Tower A\n",
      "\n",
      "Disc  1  : Tower C\n",
      "Disc  2  : Tower A\n",
      "Disc  3  : Tower A\n",
      "\n",
      "Disc  1  : Tower C\n",
      "Disc  2  : Tower B\n",
      "Disc  3  : Tower A\n",
      "\n",
      "Disc  1  : Tower B\n",
      "Disc  2  : Tower B\n",
      "Disc  3  : Tower A\n",
      "\n",
      "Disc  1  : Tower B\n",
      "Disc  2  : Tower B\n",
      "Disc  3  : Tower C\n",
      "\n",
      "Disc  1  : Tower A\n",
      "Disc  2  : Tower B\n",
      "Disc  3  : Tower C\n",
      "\n",
      "Disc  1  : Tower A\n",
      "Disc  2  : Tower C\n",
      "Disc  3  : Tower C\n",
      "\n",
      "\n",
      "Moves: 7\n",
      "Minimal moves: 7\n"
     ]
    }
   ],
   "source": [
    "print_rules()\n",
    "discs = int(input(('Enter the number of disks: ')))\n",
    "print(\"\\nSolution using DFS:\\n\")\n",
    "tower_of_hanoi(discs)"
   ]
  },
  {
   "cell_type": "code",
   "execution_count": null,
   "metadata": {},
   "outputs": [],
   "source": []
  }
 ],
 "metadata": {
  "kernelspec": {
   "display_name": "Python 3",
   "language": "python",
   "name": "python3"
  },
  "language_info": {
   "codemirror_mode": {
    "name": "ipython",
    "version": 3
   },
   "file_extension": ".py",
   "mimetype": "text/x-python",
   "name": "python",
   "nbconvert_exporter": "python",
   "pygments_lexer": "ipython3",
   "version": "3.8.5"
  }
 },
 "nbformat": 4,
 "nbformat_minor": 4
}
