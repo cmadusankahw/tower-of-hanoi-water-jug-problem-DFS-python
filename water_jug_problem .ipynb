{
 "cells": [
  {
   "cell_type": "markdown",
   "metadata": {},
   "source": [
    "# Code for Water Jug Problem using BFS"
   ]
  },
  {
   "cell_type": "code",
   "execution_count": 15,
   "metadata": {},
   "outputs": [],
   "source": [
    "from collections import deque"
   ]
  },
  {
   "cell_type": "code",
   "execution_count": 16,
   "metadata": {},
   "outputs": [],
   "source": [
    "def waterjug_bfs(x1, x2, target):\n",
    "   \n",
    "    m = {}\n",
    "    isSolution = False\n",
    "    path = []\n",
    "     \n",
    "   \n",
    "    q = deque()\n",
    "     \n",
    "   \n",
    "    q.append((0, 0))\n",
    " \n",
    "    while (len(q) > 0):\n",
    "         \n",
    "       \n",
    "        y = q.popleft()\n",
    " \n",
    "       \n",
    " \n",
    "      \n",
    "        if ((y[0], y[1]) in m):\n",
    "            continue\n",
    " \n",
    "    \n",
    "        if ((y[0] > x1 or y[1] > x2 or\n",
    "             y[0] < 0 or y[1] < 0)):\n",
    "            continue\n",
    " \n",
    "        \n",
    "        path.append([y[0], y[1]])\n",
    " \n",
    "       \n",
    "        m[(y[0], y[1])] = 1\n",
    " \n",
    "      \n",
    "        if (y[0] == target or y[1] == target):\n",
    "            isSolution = True\n",
    "             \n",
    "            if (y[0] == target):\n",
    "                if (y[1] != 0):\n",
    "                  \n",
    "                    path.append([y[0], 0])\n",
    "            else:\n",
    "                if (y[0] != 0):\n",
    " \n",
    "                   \n",
    "                    path.append([0, y[1]])\n",
    " \n",
    "          \n",
    "            size = len(path)\n",
    "            for i in range(size):\n",
    "                print(\"(\", path[i][0], \",\",\n",
    "                           path[i][1], \")\")\n",
    "            break\n",
    " \n",
    "       \n",
    "        q.append([y[0], x2])\n",
    "        q.append([x1, y[1]]) \n",
    " \n",
    "        for ap in range(max(x1, x2) + 1):\n",
    " \n",
    "            \n",
    "            x3 = u[0] + ap\n",
    "            x4 = u[1] - ap\n",
    " \n",
    "           \n",
    "            if (x3 == x1 or (x4 == 0 and x4 >= 0)):\n",
    "                q.append([x3, x4])\n",
    " \n",
    "       \n",
    "            x3 = u[0] - ap\n",
    "            x4 = u[1] + ap\n",
    " \n",
    "          \n",
    "            if ((x3 == 0 and x3 >= 0) or x4 == x2):\n",
    "                q.append([x3, x4])\n",
    "         \n",
    "       \n",
    "        q.append([x1, 0])\n",
    "         \n",
    "    \n",
    "        q.append([0, x2])\n",
    "        \n",
    "    if (not isSolution):\n",
    "        print (\"Not a solution\")"
   ]
  },
  {
   "cell_type": "code",
   "execution_count": 17,
   "metadata": {},
   "outputs": [
    {
     "name": "stdout",
     "output_type": "stream",
     "text": [
      "Possible solutions for water-jug problem using BFS ::\n",
      "( 0 , 0 )\n",
      "( 0 , 3 )\n",
      "( 4 , 0 )\n",
      "( 4 , 3 )\n",
      "( 3 , 0 )\n",
      "( 1 , 3 )\n",
      "( 3 , 3 )\n",
      "( 4 , 2 )\n",
      "( 0 , 2 )\n"
     ]
    }
   ],
   "source": [
    "    Jug1, Jug2, target = 4, 3, 2\n",
    "    print(\"Possible solutions for water-jug problem using BFS ::\")\n",
    "     \n",
    "    waterjug_bfs(Jug1, Jug2, target)"
   ]
  },
  {
   "cell_type": "code",
   "execution_count": null,
   "metadata": {},
   "outputs": [],
   "source": []
  }
 ],
 "metadata": {
  "kernelspec": {
   "display_name": "Python 3",
   "language": "python",
   "name": "python3"
  },
  "language_info": {
   "codemirror_mode": {
    "name": "ipython",
    "version": 3
   },
   "file_extension": ".py",
   "mimetype": "text/x-python",
   "name": "python",
   "nbconvert_exporter": "python",
   "pygments_lexer": "ipython3",
   "version": "3.8.3"
  }
 },
 "nbformat": 4,
 "nbformat_minor": 4
}
