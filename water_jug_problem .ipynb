{
 "cells": [
  {
   "cell_type": "markdown",
   "metadata": {},
   "source": [
    "# Code for Water Jug Problem using BFS"
   ]
  },
  {
   "cell_type": "code",
   "execution_count": 23,
   "metadata": {},
   "outputs": [],
   "source": [
    "from collections import deque"
   ]
  },
  {
   "cell_type": "code",
   "execution_count": 24,
   "metadata": {},
   "outputs": [],
   "source": [
    "def waterjug_bfs(x1, x2, target):\n",
    "   \n",
    "    #m refers to the map that used to store the state as a binary value --> indicate visited/ not visited\n",
    "    m = {}\n",
    "    isSolution = False\n",
    "    path = []\n",
    "     \n",
    "   #queue to keep state\n",
    "    que = deque()\n",
    "     \n",
    "   #state set as (0,0)\n",
    "    que.append((0, 0))\n",
    " \n",
    "    while (len(que) > 0):\n",
    "         \n",
    "       \n",
    "        y = que.popleft()\n",
    " \n",
    "       \n",
    " \n",
    "      #already visited stated \n",
    "        if ((y[0], y[1]) in m):\n",
    "            continue\n",
    " \n",
    "     # current state val exceeds the maximun capacity of jugs or infinite values\n",
    "        if ((y[0] > x1 or y[1] > x2 or\n",
    "             y[0] < 0 or y[1] < 0)):\n",
    "            continue\n",
    " \n",
    "         # appending the values to create the solution \n",
    "        path.append([y[0], y[1]])\n",
    " \n",
    "       # marking the current state as visited\n",
    "        m[(y[0], y[1])] = 1\n",
    " \n",
    "      # solution statec max value reached , then it is visited , state becomes 1 and get the solution state values\n",
    "        if (y[0] == target or y[1] == target):\n",
    "            isSolution = True\n",
    "             \n",
    "            if (y[0] == target):\n",
    "                if (y[1] != 0):\n",
    "                  \n",
    "                 # final state value \n",
    "                    path.append([y[0], 0])\n",
    "            else:\n",
    "                if (y[0] != 0):\n",
    " \n",
    "                   #final state value filled\n",
    "                    path.append([0, y[1]])\n",
    " \n",
    "          #value pairs obtained for the solutions\n",
    "            size = len(path)\n",
    "            for i in range(size):\n",
    "                print(\"(\", path[i][0], \",\",\n",
    "                           path[i][1], \")\")\n",
    "            break\n",
    " \n",
    "        # setting value for the intermediaste states when the solution state is not reached\n",
    "        que.append([y[0], x2])\n",
    "        que.append([x1, y[1]]) \n",
    " \n",
    "        for ex_amount in range(max(x1, x2) + 1):\n",
    " \n",
    "             # extra amopunt ex_amount poured from jug2 to jug1 \n",
    "            x3 = y[0] + ex_amount\n",
    "            x4 = y[1] - ex_amount\n",
    " \n",
    "           # checking for the solution obtained\n",
    "            if (x3 == x1 or (x4 == 0 and x4 >= 0)):\n",
    "                que.append([x3, x4])\n",
    " \n",
    "        # extra amount ex_amount is poured from jug1 to jug2\n",
    "            x3 = y[0] - ex_amount\n",
    "            x4 = y[1] + ex_amount\n",
    " \n",
    "            \n",
    "            if ((x3 == 0 and x3 >= 0) or x4 == x2):\n",
    "                que.append([x3, x4])\n",
    "         \n",
    "       \n",
    "        que.append([x1, 0])\n",
    "         \n",
    "    \n",
    "        que.append([0, x2])\n",
    "      # recursive call if the answer is 0\n",
    "    if (not isSolution):\n",
    "        print (\"Not a solution\")"
   ]
  },
  {
   "cell_type": "code",
   "execution_count": 25,
   "metadata": {},
   "outputs": [
    {
     "name": "stdout",
     "output_type": "stream",
     "text": [
      "Possible solutions for water-jug problem using BFS ::\n",
      "( 0 , 0 )\n",
      "( 0 , 3 )\n",
      "( 4 , 0 )\n",
      "( 4 , 3 )\n",
      "( 3 , 0 )\n",
      "( 1 , 3 )\n",
      "( 3 , 3 )\n",
      "( 4 , 2 )\n",
      "( 0 , 2 )\n"
     ]
    }
   ],
   "source": [
    "    Jug1, Jug2, target = 4, 3, 2\n",
    "    print(\"Possible solutions for water-jug problem using BFS ::\")\n",
    "     \n",
    "    waterjug_bfs(Jug1, Jug2, target)"
   ]
  },
  {
   "cell_type": "code",
   "execution_count": null,
   "metadata": {},
   "outputs": [],
   "source": []
  }
 ],
 "metadata": {
  "kernelspec": {
   "display_name": "Python 3",
   "language": "python",
   "name": "python3"
  },
  "language_info": {
   "codemirror_mode": {
    "name": "ipython",
    "version": 3
   },
   "file_extension": ".py",
   "mimetype": "text/x-python",
   "name": "python",
   "nbconvert_exporter": "python",
   "pygments_lexer": "ipython3",
   "version": "3.8.3"
  }
 },
 "nbformat": 4,
 "nbformat_minor": 4
}
