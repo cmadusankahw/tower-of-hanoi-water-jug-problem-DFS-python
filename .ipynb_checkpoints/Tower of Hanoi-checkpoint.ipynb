{
 "cells": [
  {
   "cell_type": "code",
   "execution_count": 19,
   "metadata": {},
   "outputs": [],
   "source": [
    "from pathlib import Path\n",
    "import gettext"
   ]
  },
  {
   "cell_type": "code",
   "execution_count": 20,
   "metadata": {},
   "outputs": [],
   "source": [
    "def print_rules():\n",
    "    print(\"--------- Tower of Hanoi ---------\\n\")\n",
    "    print(\"Rules: \")\n",
    "    print(\"  1) Only one disk can be moved at a time.\\n  2) Each move consists of taking the upper disk from one of the stacks\\n     and placing it on top of another stack\\n     i.e. a disk can only be moved if it is the uppermost disk on a stack.\\n  3) No disk may be placed on top of a smaller disk.\\n\")"
   ]
  },
  {
   "cell_type": "code",
   "execution_count": 21,
   "metadata": {},
   "outputs": [],
   "source": [
    "def move(source, destination):\n",
    "    destination.append(source.pop())"
   ]
  },
  {
   "cell_type": "code",
   "execution_count": 22,
   "metadata": {},
   "outputs": [],
   "source": [
    "def possible_move(peg1, peg2):\n",
    "    if peg1 and (not peg2 or peg1[-1] < peg2[-1]):\n",
    "        return peg1, peg2\n",
    "    else:\n",
    "        return peg2, peg1"
   ]
  },
  {
   "cell_type": "code",
   "execution_count": 23,
   "metadata": {},
   "outputs": [],
   "source": [
    "def print_pegs(a, b, c, discs):\n",
    "    print(a)\n",
    "    print(b)\n",
    "    print(c)\n",
    "    print()"
   ]
  },
  {
   "cell_type": "code",
   "execution_count": 24,
   "metadata": {},
   "outputs": [],
   "source": [
    "def print_tower(a, height):\n",
    "    tower_bar = height - len(a)\n",
    "    for i in range(tower_bar):\n",
    "        print(\"|\")\n",
    "    for j in range(len(a)):\n",
    "        print(\"*\" * len(a), end=\" \")\n",
    "        print()"
   ]
  },
  {
   "cell_type": "code",
   "execution_count": 25,
   "metadata": {},
   "outputs": [],
   "source": [
    "def tower_of_hanoi(discs):\n",
    "    a = list(range(discs, 0, -1))\n",
    "    b = []\n",
    "    c = []\n",
    "\n",
    "    minimum_moves = 2 ** discs - 1\n",
    "\n",
    "    if discs % 2 == 1:\n",
    "        peg = [a, c, b]\n",
    "    else:\n",
    "        peg = [a, b, c]\n",
    "\n",
    "    moves = 0\n",
    "    while len(c) != discs:\n",
    "        if moves % 2 == 0:\n",
    "            move(peg[0], peg[1])      # Smallest disc now on peg[1]\n",
    "        else:\n",
    "            source, destination = possible_move(peg[0], peg[2])\n",
    "            move(source, destination)\n",
    "            peg = peg[1:] + peg[:1]   # Rotate the peg ordering\n",
    "\n",
    "        print_pegs(a, b, c ,discs)\n",
    "        moves += 1\n",
    "\n",
    "    print()\n",
    "    print(('Moves:'), moves)\n",
    "    print(('Minimal moves:'), minimum_moves)"
   ]
  },
  {
   "cell_type": "code",
   "execution_count": 18,
   "metadata": {},
   "outputs": [
    {
     "name": "stdout",
     "output_type": "stream",
     "text": [
      "--------- Tower of Hanoi ---------\n",
      "\n",
      "Rules: \n",
      "  1) Only one disk can be moved at a time.\n",
      "  2) Each move consists of taking the upper disk from one of the stacks\n",
      "     and placing it on top of another stack\n",
      "     i.e. a disk can only be moved if it is the uppermost disk on a stack.\n",
      "  3) No disk may be placed on top of a smaller disk.\n",
      "\n",
      "Enter the number of disks: 4\n",
      "[4, 3, 2]\n",
      "[1]\n",
      "[]\n",
      "\n",
      "[4, 3]\n",
      "[1]\n",
      "[2]\n",
      "\n",
      "[4, 3]\n",
      "[]\n",
      "[2, 1]\n",
      "\n",
      "[4]\n",
      "[3]\n",
      "[2, 1]\n",
      "\n",
      "[4, 1]\n",
      "[3]\n",
      "[2]\n",
      "\n",
      "[4, 1]\n",
      "[3, 2]\n",
      "[]\n",
      "\n",
      "[4]\n",
      "[3, 2, 1]\n",
      "[]\n",
      "\n",
      "[]\n",
      "[3, 2, 1]\n",
      "[4]\n",
      "\n",
      "[]\n",
      "[3, 2]\n",
      "[4, 1]\n",
      "\n",
      "[2]\n",
      "[3]\n",
      "[4, 1]\n",
      "\n",
      "[2, 1]\n",
      "[3]\n",
      "[4]\n",
      "\n",
      "[2, 1]\n",
      "[]\n",
      "[4, 3]\n",
      "\n",
      "[2]\n",
      "[1]\n",
      "[4, 3]\n",
      "\n",
      "[]\n",
      "[1]\n",
      "[4, 3, 2]\n",
      "\n",
      "[]\n",
      "[]\n",
      "[4, 3, 2, 1]\n",
      "\n",
      "\n",
      "Moves: 15\n",
      "Minimal moves: 15\n"
     ]
    }
   ],
   "source": [
    "print_rules()\n",
    "discs = int(input(('Enter the number of disks: ')))\n",
    "tower_of_hanoi(discs)"
   ]
  },
  {
   "cell_type": "code",
   "execution_count": null,
   "metadata": {},
   "outputs": [],
   "source": []
  }
 ],
 "metadata": {
  "kernelspec": {
   "display_name": "Python 3",
   "language": "python",
   "name": "python3"
  },
  "language_info": {
   "codemirror_mode": {
    "name": "ipython",
    "version": 3
   },
   "file_extension": ".py",
   "mimetype": "text/x-python",
   "name": "python",
   "nbconvert_exporter": "python",
   "pygments_lexer": "ipython3",
   "version": "3.8.5"
  }
 },
 "nbformat": 4,
 "nbformat_minor": 4
}
